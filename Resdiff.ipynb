{
  "nbformat": 4,
  "nbformat_minor": 0,
  "metadata": {
    "colab": {
      "provenance": []
    },
    "kernelspec": {
      "name": "python3",
      "display_name": "Python 3"
    },
    "language_info": {
      "name": "python"
    }
  },
  "cells": [
    {
      "cell_type": "markdown",
      "source": [
        "# Latent diffusion attempt\n"
      ],
      "metadata": {
        "id": "wUigOX0zQOgx"
      }
    },
    {
      "cell_type": "code",
      "execution_count": 19,
      "metadata": {
        "id": "SXg64As-QLzf"
      },
      "outputs": [],
      "source": [
        "import os\n",
        "import torch\n",
        "from torch import nn\n",
        "import numpy as np\n",
        "\n",
        "DEVICE = \"cuda:0\" if torch.cuda.is_available() else \"cpu\""
      ]
    },
    {
      "cell_type": "markdown",
      "source": [
        "# Defining Autoencoder\n"
      ],
      "metadata": {
        "id": "qs-yOEpoSc6n"
      }
    },
    {
      "cell_type": "code",
      "source": [
        "class AEmodel(torch.nn.Module):\n",
        "\n",
        "    def __init__(self, input_channels, channels=[4, 8, 16]):\n",
        "        \"\"\"Args:\n",
        "          channels: The number of channels for feature maps of each resolution.\n",
        "        \"\"\"\n",
        "        super().__init__()\n",
        "        # Gaussian random feature embedding layer for time\n",
        "        # Encoding layers where the resolution decreases\n",
        "        self.encoder = nn.Sequential(\n",
        "            nn.Conv2d(input_channels, channels[0], 3, stride=1, bias=True),\n",
        "            nn.BatchNorm2d(channels[0]),\n",
        "            nn.SiLU(),\n",
        "            nn.Conv2d(channels[0], channels[1], 3, stride=2, bias=True),\n",
        "            nn.BatchNorm2d(channels[1]),\n",
        "            nn.SiLU(),\n",
        "            nn.Conv2d(channels[1], channels[2], 3, stride=1, bias=True),\n",
        "            nn.BatchNorm2d(channels[2]))\n",
        "        self.decoder = nn.Sequential(\n",
        "            nn.ConvTranspose2d(channels[2], channels[1], 3, stride=1, bias=True),\n",
        "            nn.BatchNorm2d(channels[1]),\n",
        "            nn.SiLU(),\n",
        "            nn.ConvTranspose2d(channels[1], channels[0], 3, stride=2, bias=True, output_padding=1),\n",
        "            nn.BatchNorm2d(channels[0]),\n",
        "            nn.SiLU(),\n",
        "            nn.ConvTranspose2d(channels[0], input_channels, 3, stride=1, bias=True),\n",
        "            nn.Sigmoid(),\n",
        "        )\n",
        "\n",
        "    def forward(self, x):\n",
        "        return self.decoder(self.encoder(x))"
      ],
      "metadata": {
        "id": "i-WfhmmsQcen"
      },
      "execution_count": 18,
      "outputs": []
    },
    {
      "cell_type": "markdown",
      "source": [
        "### Autoencoder with time embdedding"
      ],
      "metadata": {
        "id": "E4WdWUfvSgaO"
      }
    },
    {
      "cell_type": "markdown",
      "source": [
        "Defining time embedding. (not actually clear why we may need a time embdedded autoencoder)"
      ],
      "metadata": {
        "id": "ZaWO6jjBStlz"
      }
    },
    {
      "cell_type": "code",
      "source": [
        "class GaussianFourierProjection(nn.Module):\n",
        "    \"\"\"Gaussian random features for encoding time steps.\"\"\"\n",
        "\n",
        "    def __init__(self, embed_dim, scale=30.0):\n",
        "        super().__init__()\n",
        "        # Randomly sample weights (frequencies) during initialization.\n",
        "        # These weights (frequencies) are fixed during optimization and are not trainable.\n",
        "        self.W = nn.Parameter(torch.randn(embed_dim // 2) * scale, requires_grad=False)\n",
        "\n",
        "    def forward(self, x):\n",
        "        \"\"\" Args:\n",
        "            x: torch.Tensor of dim 1 (e.g. torch.Tensor([12]))\n",
        "        \"\"\"\n",
        "        x_proj = x[:, None] * self.W[None, :] * 2 * np.pi\n",
        "        return torch.cat([torch.sin(x_proj), torch.cos(x_proj)], dim=-1)\n",
        "\n",
        "\n",
        "class Dense(nn.Module):\n",
        "    \"\"\"A fully connected layer that reshapes outputs to feature maps.\n",
        "    Allow time repr to input additively from the side of a convolution layer.\n",
        "    \"\"\"\n",
        "\n",
        "    def __init__(self, input_dim, output_dim):\n",
        "        super().__init__()\n",
        "        self.dense = nn.Linear(input_dim, output_dim)\n",
        "\n",
        "    def forward(self, x):\n",
        "        return self.dense(x)[..., None, None]\n",
        "        # this broadcast the 2d tensor to 4d, add the same value across space.\n",
        "\n",
        "\n",
        "class AEmodel(nn.Module):\n",
        "\n",
        "    def __init__(self, input_channels, channels=[4, 8, 16], embed_dim=256):\n",
        "        \"\"\"Args:\n",
        "          channels: The number of channels for feature maps of each resolution.\n",
        "        \"\"\"\n",
        "        super().__init__()\n",
        "        pass\n",
        "\n",
        "    def forward(self, x):\n",
        "        raise NotImplementedError\n"
      ],
      "metadata": {
        "colab": {
          "base_uri": "https://localhost:8080/"
        },
        "id": "_u5rfiezSt3b",
        "outputId": "a8bc4785-a4d8-4e54-f7fd-0de6cb36cb23"
      },
      "execution_count": 72,
      "outputs": [
        {
          "output_type": "stream",
          "name": "stdout",
          "text": [
            "Embedded dim: torch.Size([1, 256])\n"
          ]
        }
      ]
    },
    {
      "cell_type": "code",
      "source": [
        "x = torch.rand(1,1,100,100)\n",
        "random_t = torch.randint(low=0, high=10, size=(x.shape[0],))\n",
        "print(random_t.shape)"
      ],
      "metadata": {
        "colab": {
          "base_uri": "https://localhost:8080/"
        },
        "id": "U75FSY_1Vh0_",
        "outputId": "e4dd7c6a-1e53-4d7d-d5e6-46edbe8593b4"
      },
      "execution_count": 65,
      "outputs": [
        {
          "output_type": "stream",
          "name": "stdout",
          "text": [
            "torch.Size([1])\n"
          ]
        }
      ]
    },
    {
      "cell_type": "markdown",
      "source": [
        "# Autoencoder Training\n",
        "\n",
        "input source must be:\n",
        "- LR (pre-upsampled bicubic if using U-Net like architecture).\n",
        "- time-embedding (randomly sampled)\n"
      ],
      "metadata": {
        "id": "NYw44tdDlc7-"
      }
    },
    {
      "cell_type": "code",
      "source": [
        "class Latent_UNet_Tranformer(nn.Module):\n",
        "    \"\"\"A time-dependent score-based model built upon U-Net architecture.\"\"\"\n",
        "\n",
        "    def __init__(self, channels=[4, 64, 128, 256], embed_dim=256, text_dim=256):\n",
        "        \"\"\"Initialize a time-dependent score-based network.\n",
        "\n",
        "        Args:\n",
        "          channels: The number of channels for feature maps of each resolution.\n",
        "          embed_dim: The dimensionality of Gaussian random feature embeddings.\n",
        "        \"\"\"\n",
        "        super().__init__()\n",
        "        # Gaussian random feature embedding layer for time\n",
        "        self.time_embed = nn.Sequential(\n",
        "            GaussianFourierProjection(embed_dim=embed_dim),\n",
        "            nn.Linear(embed_dim, embed_dim),\n",
        "        )\n",
        "        # Encoding layers where the resolution decreases\n",
        "        self.conv1  = nn.Conv2d(channels[0], channels[1], 3, stride=1, bias=False)\n",
        "        self.dense1 = Dense(embed_dim, channels[1])\n",
        "        self.gnorm1 = nn.GroupNorm(4, num_channels=channels[1])\n",
        "        self.conv2  = nn.Conv2d(channels[1], channels[2], 3, stride=2, bias=False)\n",
        "        self.dense2 = Dense(embed_dim, channels[2])\n",
        "        self.gnorm2 = nn.GroupNorm(4, num_channels=channels[2])\n",
        "        self.attn2  = SpatialTransformer(channels[2], text_dim)\n",
        "        self.conv3  = nn.Conv2d(channels[2], channels[3], 3, stride=2, bias=False)\n",
        "        self.dense3 = Dense(embed_dim, channels[3])\n",
        "        self.gnorm3 = nn.GroupNorm(4, num_channels=channels[3])\n",
        "        self.attn3  = SpatialTransformer(channels[3], text_dim)\n",
        "\n",
        "        self.tconv3 = nn.ConvTranspose2d(\n",
        "            channels[3], channels[2], 3, stride=2, bias=False,\n",
        "        )\n",
        "\n",
        "        self.dense6 = Dense(embed_dim, channels[2])\n",
        "        self.tgnorm3 = nn.GroupNorm(4, num_channels=channels[2])\n",
        "        self.attn6 = SpatialTransformer(channels[2], text_dim)\n",
        "        self.tconv2 = nn.ConvTranspose2d(channels[2], channels[1], 3, stride=2, bias=False, output_padding=1\n",
        "        )  # + channels[2]\n",
        "        self.dense7 = Dense(embed_dim, channels[1])\n",
        "        self.tgnorm2 = nn.GroupNorm(4, num_channels=channels[1])\n",
        "        self.tconv1 = nn.ConvTranspose2d(channels[1], channels[0], 3, stride=1\n",
        "        )  # + channels[1]\n",
        "\n",
        "        # The swish activation function\n",
        "        self.act = nn.SiLU()  # lambda x: x * torch.sigmoid(x)\n",
        "        #self.cond_embed = nn.Embedding(nClass, text_dim)\n",
        "\n",
        "    def forward(self, x, t, y=None):\n",
        "        # Obtain the Gaussian random feature embedding for t\n",
        "        embed = self.act(self.time_embed(t))\n",
        "        y_embed = self.cond_embed(y).unsqueeze(1)\n",
        "        # Encoding path\n",
        "        ## Incorporate information from t\n",
        "        h1 = self.conv1(x) + self.dense1(embed)\n",
        "        ## Group normalization\n",
        "        h1 = self.act(self.gnorm1(h1))\n",
        "        h2 = self.conv2(h1) + self.dense2(embed)\n",
        "        h2 = self.act(self.gnorm2(h2))\n",
        "        h2 = self.attn2(h2, y_embed)\n",
        "        h3 = self.conv3(h2) + self.dense3(embed)\n",
        "        h3 = self.act(self.gnorm3(h3))\n",
        "        h3 = self.attn3(h3, y_embed)\n",
        "\n",
        "        # Decoding path\n",
        "        ## Skip connection from the encoding path\n",
        "        h = self.tconv3(h3) + self.dense6(embed)\n",
        "        h = self.act(self.tgnorm3(h))\n",
        "        h = self.attn6(h, y_embed)\n",
        "        h = self.tconv2(h + h2)\n",
        "        h += self.dense7(embed)\n",
        "        h = self.act(self.tgnorm2(h))\n",
        "        h = self.tconv1(h + h1)\n",
        "\n",
        "        return h"
      ],
      "metadata": {
        "colab": {
          "base_uri": "https://localhost:8080/"
        },
        "id": "KZcCn2GZRUAs",
        "outputId": "a7a3ee62-a83a-41bc-c0df-317725846fb1"
      },
      "execution_count": 17,
      "outputs": [
        {
          "output_type": "execute_result",
          "data": {
            "text/plain": [
              "torch.Size([1, 16, 46, 46])"
            ]
          },
          "metadata": {},
          "execution_count": 17
        }
      ]
    },
    {
      "cell_type": "markdown",
      "source": [
        "# Diffusion model (Latent)\n"
      ],
      "metadata": {
        "id": "7_FmN_Evlf9c"
      }
    },
    {
      "cell_type": "code",
      "source": [],
      "metadata": {
        "id": "iWqNQT7JRY2h"
      },
      "execution_count": null,
      "outputs": []
    }
  ]
}